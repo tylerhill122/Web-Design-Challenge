{
 "cells": [
  {
   "cell_type": "code",
   "execution_count": 8,
   "id": "d0c11a7b",
   "metadata": {},
   "outputs": [],
   "source": [
    "import pandas as pd"
   ]
  },
  {
   "cell_type": "code",
   "execution_count": 9,
   "id": "f4f7c5f4",
   "metadata": {},
   "outputs": [],
   "source": [
    "csv_file = pd.read_csv(\"Resources/WeatherPy.csv\")"
   ]
  },
  {
   "cell_type": "code",
   "execution_count": 10,
   "id": "23bb4c29",
   "metadata": {},
   "outputs": [],
   "source": [
    "csv_file.to_html(\"Resources/WeatherPy.html\")"
   ]
  }
 ],
 "metadata": {
  "kernelspec": {
   "display_name": "Python 3",
   "language": "python",
   "name": "python3"
  },
  "language_info": {
   "codemirror_mode": {
    "name": "ipython",
    "version": 3
   },
   "file_extension": ".py",
   "mimetype": "text/x-python",
   "name": "python",
   "nbconvert_exporter": "python",
   "pygments_lexer": "ipython3",
   "version": "3.6.10"
  }
 },
 "nbformat": 4,
 "nbformat_minor": 5
}
